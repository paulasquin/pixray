{
 "cells": [
  {
   "cell_type": "code",
   "execution_count": null,
   "metadata": {},
   "outputs": [],
   "source": [
    "%config Completer.use_jedi = False"
   ]
  },
  {
   "cell_type": "code",
   "execution_count": null,
   "metadata": {
    "_cell_guid": "b1076dfc-b9ad-4769-8c92-a6c4dae69d19",
    "_uuid": "8f2839f25d086af736a60e9eeb907d3b93b6e0e5"
   },
   "outputs": [],
   "source": [
    "# !nvidia-smi\n",
    "# !sudo apt-get install -y ffmpeg zip\n",
    "import torch\n",
    "torch.cuda.is_available()"
   ]
  },
  {
   "cell_type": "code",
   "execution_count": null,
   "metadata": {},
   "outputs": [],
   "source": [
    "\"\"\"%%capture\n",
    "\n",
    "!rm -Rf pixray\n",
    "!git clone --recursive https://github.com/paulasquin/pixray.git\n",
    "!pip install pillow basicsr pydiffvg\n",
    "!pip install --upgrade pillow\n",
    "!pip install -r pixray/requirements.txt\n",
    "\"\"\""
   ]
  },
  {
   "cell_type": "code",
   "execution_count": null,
   "metadata": {},
   "outputs": [],
   "source": [
    "\"\"\"\n",
    "!pip install -r requirements.txt\n",
    "!pip install v-diffusion-pytorch/\n",
    "\"\"\"\n",
    "!pip install . --no-deps"
   ]
  },
  {
   "cell_type": "code",
   "execution_count": null,
   "metadata": {},
   "outputs": [],
   "source": [
    "!rm -r aiart steps\n",
    "!mkdir -p aiart\n",
    "!mkdir -p steps\n",
    "!mkdir -p models\n",
    "\n",
    "import sys\n",
    "# sys.path.append(\"pixray\")\n",
    "# import pixray\n"
   ]
  },
  {
   "cell_type": "code",
   "execution_count": null,
   "metadata": {},
   "outputs": [],
   "source": [
    "prompts=\"sailboat and solar eruption #artstation\" #@param {type:\"string\"}\n",
    "optimiser=\"DiffGrad\" #@param [\"Adam\", \"DiffGrad\"]\n",
    "quality=\"best\" #@param [\"draft\", \"normal\", \"better\", \"best\"]\n",
    "init_noise=\"pixels\" #@param [\"pixels\", \"gradient\" , \"snow\"]\n",
    "drawer = \"vqgan\" #@param [\"vqgan\", \"clipdraw\", \"pixel\", \"line_sketch\"]\n",
    "# clip_models='RN50,ViT-B/16,SLIP_VITB16'\n",
    "batches=None\n",
    "num_cuts=None\n",
    "scale = \"2\" #@param {type:\"string\"}\n",
    "display_every=10\n",
    "iterations=200\n",
    "\n",
    "multiple_gpu=True\n",
    "\n",
    "scale = float(scale)\n",
    "width=f\"{int(1080//scale)}\"\n",
    "height=f\"{int(1920//scale)}\"\n",
    "# height = int(float(width) * 5.0 / 4)\n",
    "run_name = prompts.replace(\" \", \"_\").replace(\"#\", \"\").replace(\"|\", \"\")\n",
    "outdir=f\"aiart/{run_name}\"\n",
    "print(f\"{run_name}: {width}x{height}\")"
   ]
  },
  {
   "cell_type": "code",
   "execution_count": null,
   "metadata": {},
   "outputs": [],
   "source": [
    "import os\n",
    "if not os.path.isdir(outdir):\n",
    "    os.makedirs(outdir)"
   ]
  },
  {
   "cell_type": "code",
   "execution_count": null,
   "metadata": {},
   "outputs": [],
   "source": [
    "import diffusion"
   ]
  },
  {
   "cell_type": "code",
   "execution_count": null,
   "metadata": {},
   "outputs": [],
   "source": [
    "from pixray import pixray"
   ]
  },
  {
   "cell_type": "code",
   "execution_count": null,
   "metadata": {},
   "outputs": [],
   "source": [
    "pixray.reset_settings()\n",
    "pixray.add_settings(prompts=prompts, init_noise=init_noise, outdir=outdir, save_every=1, make_video=True, vector_prompts=\"textoff\",\n",
    "                   size=[int(width), int(height)], quality=quality, save_intermediates=True, custom_loss=\"aesthetic\", optimiser=optimiser,\n",
    "                   display_every=display_every, num_cuts=num_cuts, batches=batches, iterations=iterations,\n",
    "                   multiple_gpu=multiple_gpu)\n",
    "settings = pixray.apply_settings()\n",
    "pixray.do_init(settings)"
   ]
  },
  {
   "cell_type": "code",
   "execution_count": null,
   "metadata": {
    "scrolled": false
   },
   "outputs": [],
   "source": [
    "pixray.do_run(settings)"
   ]
  },
  {
   "cell_type": "code",
   "execution_count": null,
   "metadata": {},
   "outputs": [],
   "source": [
    "# import pixray\n",
    "# pixray.step_to_video('steps')"
   ]
  },
  {
   "cell_type": "code",
   "execution_count": null,
   "metadata": {},
   "outputs": [],
   "source": [
    "!ls"
   ]
  },
  {
   "cell_type": "code",
   "execution_count": null,
   "metadata": {},
   "outputs": [],
   "source": [
    "!rm aiart.zip\n",
    "!cp steps/*.mp4 $outdir/video_step.mp4\n",
    "print(\"Overall aiart\")\n",
    "# !zip -r aiart.zip aiart\n",
    "print(f\"{run_name}\")\n",
    "run_name_zip_path = run_name + \".zip\"\n",
    "!zip -r $run_name_zip_path $outdir"
   ]
  },
  {
   "cell_type": "code",
   "execution_count": null,
   "metadata": {},
   "outputs": [],
   "source": [
    "!ls"
   ]
  },
  {
   "cell_type": "code",
   "execution_count": null,
   "metadata": {},
   "outputs": [],
   "source": [
    "# !git clone https://github.com/iamleot/transferwee.git\n",
    "# !python transferwee/transferwee.py upload $(pwd)/aiart.zip -m \"airart\""
   ]
  },
  {
   "cell_type": "code",
   "execution_count": null,
   "metadata": {},
   "outputs": [],
   "source": [
    "from IPython.display import FileLink\n",
    "FileLink(r'aiart.zip')"
   ]
  },
  {
   "cell_type": "code",
   "execution_count": null,
   "metadata": {},
   "outputs": [],
   "source": [
    "FileLink(fr'{run_name_zip_path}')"
   ]
  },
  {
   "cell_type": "code",
   "execution_count": null,
   "metadata": {},
   "outputs": [],
   "source": []
  }
 ],
 "metadata": {
  "kernelspec": {
   "display_name": "Python 3 (ipykernel)",
   "language": "python",
   "name": "python3"
  },
  "language_info": {
   "codemirror_mode": {
    "name": "ipython",
    "version": 3
   },
   "file_extension": ".py",
   "mimetype": "text/x-python",
   "name": "python",
   "nbconvert_exporter": "python",
   "pygments_lexer": "ipython3",
   "version": "3.8.10"
  }
 },
 "nbformat": 4,
 "nbformat_minor": 4
}
